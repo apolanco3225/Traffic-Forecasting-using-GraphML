{
  "cells": [
    {
      "cell_type": "code",
      "execution_count": null,
      "metadata": {
        "colab": {
          "base_uri": "https://localhost:8080/",
          "height": 249
        },
        "id": "n88OVdU0GXuJ",
        "outputId": "76b79d2d-232b-4a47-fbb6-7699430b2247"
      },
      "outputs": [],
      "source": [
        "import pandas as pd\n",
        "\n",
        "import warnings\n",
        "warnings.filterwarnings('ignore')\n",
        "\n",
        "sensors_list = [f\"sensor_{num}\" for num in range(0, 228)]\n",
        "\n",
        "speeds_df = pd.read_csv(\"data/PeMSD7_V_228.csv\", names=sensors_list)\n",
        "distances_df = pd.read_csv(\"data/PeMSD7_W_228.csv\", names=range(0, 228))\n",
        "\n",
        "speeds_df.head()"
      ]
    },
    {
      "cell_type": "code",
      "execution_count": null,
      "metadata": {
        "id": "LrAn8pWQGe7E"
      },
      "outputs": [],
      "source": [
        "# !mkdir data"
      ]
    },
    {
      "cell_type": "code",
      "execution_count": null,
      "metadata": {
        "colab": {
          "base_uri": "https://localhost:8080/",
          "height": 249
        },
        "id": "PKTDX01CGXuR",
        "outputId": "92e378ae-d3c4-4925-f0d2-68d52803e779"
      },
      "outputs": [],
      "source": [
        "distances_df.head()"
      ]
    },
    {
      "cell_type": "markdown",
      "metadata": {
        "id": "8SfDbrsLGXuV"
      },
      "source": [
        "The information is stored in 228 sensor stations. The distance dataframe is going to be helpful construct the graph since it captures the locations and relative distances of the different sensors. The time series for every sensor is stored in the speeds dataframe, a total of 12672 samples per sensor."
      ]
    },
    {
      "cell_type": "code",
      "execution_count": null,
      "metadata": {
        "colab": {
          "base_uri": "https://localhost:8080/"
        },
        "id": "EaHrKOODGXuf",
        "outputId": "33c9bb5c-bf47-4ed8-8695-4f9ce3895042"
      },
      "outputs": [],
      "source": [
        "print(f\"Distance data dimensions: {distances_df.shape}\")\n",
        "print(f\"Speeds data dimensions: {speeds_df.shape}\")"
      ]
    },
    {
      "cell_type": "code",
      "execution_count": null,
      "metadata": {
        "colab": {
          "base_uri": "https://localhost:8080/",
          "height": 542
        },
        "id": "vxZrNi_IGXuj",
        "outputId": "f38f2a64-875a-4a58-89fc-e45a6511e751"
      },
      "outputs": [],
      "source": [
        "import plotly.express as px\n",
        "import plotly.graph_objects as go\n",
        "\n",
        "\n",
        "fig = px.line(\n",
        "    speeds_df,\n",
        "    title=\"Sensor Time Series\",\n",
        "    labels={\n",
        "        \"value\":\"Traffic Speed per Sensor\",\n",
        "        \"index\":\"Time in a 5 minutes interval\"\n",
        "    },\n",
        "\n",
        ")\n",
        "fig.show()"
      ]
    },
    {
      "cell_type": "code",
      "execution_count": null,
      "metadata": {
        "colab": {
          "base_uri": "https://localhost:8080/",
          "height": 542
        },
        "id": "OXA_IoXkGXum",
        "outputId": "7ca92a72-28d6-4e5d-d0a0-805161a5e0dc"
      },
      "outputs": [],
      "source": [
        "mean_speed = speeds_df.mean(axis=1)\n",
        "\n",
        "\n",
        "fig = px.line(\n",
        "    mean_speed,\n",
        "    title=\"Mean Speed Time Series\",\n",
        "    labels={\n",
        "        \"value\":\"Mean Speed\",\n",
        "        \"index\":\"Time in a 5 minutes interval\"\n",
        "    },\n",
        "\n",
        ")\n",
        "fig.show()\n"
      ]
    },
    {
      "cell_type": "code",
      "execution_count": null,
      "metadata": {
        "colab": {
          "base_uri": "https://localhost:8080/"
        },
        "id": "A9f3CmdcGXun",
        "outputId": "35223935-8ac7-4d86-d394-1cbeddd0c5b0"
      },
      "outputs": [],
      "source": [
        "distances_df.shape"
      ]
    },
    {
      "cell_type": "code",
      "execution_count": null,
      "metadata": {
        "colab": {
          "base_uri": "https://localhost:8080/",
          "height": 542
        },
        "id": "w7znOBlPGXuu",
        "outputId": "c89d1334-dc94-473f-c07f-e7d967152c17"
      },
      "outputs": [],
      "source": [
        "import numpy as np\n",
        "import matplotlib.pyplot as plt\n",
        "\n",
        "\n",
        "fig = px.imshow(\n",
        "    distances_df,\n",
        "    color_continuous_scale=px.colors.sequential.ice,\n",
        "    title=\"Distance Sensor Data\"\n",
        ")\n",
        "fig.show()"
      ]
    },
    {
      "cell_type": "markdown",
      "metadata": {
        "id": "5DAJ-fsOIaRV"
      },
      "source": [
        "Data Processing"
      ]
    },
    {
      "cell_type": "code",
      "execution_count": null,
      "metadata": {
        "id": "shCklN3sHXBH"
      },
      "outputs": [],
      "source": [
        "def compute_adjacency_matrix(distances, sigma_squared=0.1, epsilon=0.5):\n",
        "    distances_normalized_array = distances.to_numpy() / 10000.\n",
        "    distance_squared = distances_normalized_array * distances_normalized_array\n",
        "    n = distance_squared.shape[0]\n",
        "    w_mask = np.ones([n, n]) - np.identity(n)\n",
        "    return np.exp(-distance_squared / sigma_squared) * (np.exp(-distance_squared / sigma_squared) >= epsilon) * w_mask\n",
        "\n",
        "adj = compute_adjacency_matrix(distances_df)"
      ]
    },
    {
      "cell_type": "code",
      "execution_count": null,
      "metadata": {
        "colab": {
          "base_uri": "https://localhost:8080/",
          "height": 542
        },
        "id": "DIwxhmyQI2H_",
        "outputId": "ca04e825-602a-40bf-b452-7bef74b31d49"
      },
      "outputs": [],
      "source": [
        "fig = px.imshow(\n",
        "    adj,\n",
        "    color_continuous_scale=px.colors.sequential.ice,\n",
        "    title=\"Adjacency Matrix\"\n",
        ")\n",
        "fig.show()"
      ]
    },
    {
      "cell_type": "code",
      "execution_count": null,
      "metadata": {
        "colab": {
          "base_uri": "https://localhost:8080/"
        },
        "id": "aoijcGddMtbl",
        "outputId": "a7160b42-4290-4f1a-9758-22f5c525aef3"
      },
      "outputs": [],
      "source": [
        "import networkx as nx\n",
        "\n",
        "rows, cols = np.where(adj > 0)\n",
        "edges = zip(rows.tolist(), cols.tolist())\n",
        "\n",
        "G = nx.Graph()\n",
        "G.add_edges_from(edges)\n",
        "G.nodes"
      ]
    },
    {
      "cell_type": "code",
      "execution_count": null,
      "metadata": {
        "colab": {
          "base_uri": "https://localhost:8080/"
        },
        "id": "-h-dYKGjOcOp",
        "outputId": "91701d5b-9fbb-4f2d-b18a-918a6d00f3f2"
      },
      "outputs": [],
      "source": [
        "len(list(G.nodes))"
      ]
    },
    {
      "cell_type": "code",
      "execution_count": null,
      "metadata": {
        "colab": {
          "base_uri": "https://localhost:8080/"
        },
        "id": "0SzgV1SZMxc_",
        "outputId": "f63aca3f-872f-4c30-a160-d4e03b4af4e9"
      },
      "outputs": [],
      "source": [
        "list(G.edges)[:10]"
      ]
    },
    {
      "cell_type": "code",
      "execution_count": null,
      "metadata": {
        "colab": {
          "base_uri": "https://localhost:8080/"
        },
        "id": "MtLAiKYONTRs",
        "outputId": "8042320a-4d2a-4964-8cc9-925a4fd5cccb"
      },
      "outputs": [],
      "source": [
        "node_position = nx.spring_layout(G)\n",
        "print(\"Number of Nodes\")\n",
        "print(len(node_position))\n",
        "print(\"Nodes\")\n",
        "print(node_position.keys())\n",
        "print(\"Positions\")\n",
        "print(node_position.values())"
      ]
    },
    {
      "cell_type": "code",
      "execution_count": null,
      "metadata": {
        "id": "kfvBAt7VOut3"
      },
      "outputs": [],
      "source": [
        "for node in G.nodes:\n",
        "  G.nodes[node]['pos'] = node_position[node]"
      ]
    },
    {
      "cell_type": "code",
      "execution_count": null,
      "metadata": {
        "colab": {
          "base_uri": "https://localhost:8080/"
        },
        "id": "xuARPScSREAE",
        "outputId": "03a9150f-6277-41ee-e2f9-730b4120ba42"
      },
      "outputs": [],
      "source": [
        "G.nodes[0]"
      ]
    },
    {
      "cell_type": "code",
      "execution_count": null,
      "metadata": {
        "colab": {
          "base_uri": "https://localhost:8080/",
          "height": 542
        },
        "id": "QXyXkTGuQGiu",
        "outputId": "b4f70506-b397-4a90-fbf6-3a1eb5025f0c"
      },
      "outputs": [],
      "source": [
        "\n",
        "\n",
        "edge_x = []\n",
        "edge_y = []\n",
        "for edge in G.edges():\n",
        "    first_node = edge[0]\n",
        "    second_node = edge[1]\n",
        "    x0, y0 = G.nodes[first_node][\"pos\"]\n",
        "    x1, y1 = G.nodes[second_node][\"pos\"]\n",
        "    edge_x.append(x0)\n",
        "    edge_x.append(x1)\n",
        "    edge_x.append(None)\n",
        "    edge_y.append(y0)\n",
        "    edge_y.append(y1)\n",
        "    edge_y.append(None)\n",
        "\n",
        "edge_trace = go.Scatter(\n",
        "    x=edge_x, y=edge_y,\n",
        "    line=dict(width=0.5, color='#888'),\n",
        "    hoverinfo='none',\n",
        "    mode='lines')\n",
        "\n",
        "\n",
        "\n",
        "node_x = []\n",
        "node_y = []\n",
        "for node in G.nodes():\n",
        "    x, y = G.nodes[node]['pos']\n",
        "    node_x.append(x)\n",
        "    node_y.append(y)\n",
        "\n",
        "\n",
        "\n",
        "\n",
        "node_trace = go.Scatter(\n",
        "    x=node_x, y=node_y,\n",
        "    mode='markers',\n",
        "    hoverinfo='text',\n",
        "    marker=dict(\n",
        "        showscale=True,\n",
        "        # colorscale options\n",
        "        #'Greys' | 'YlGnBu' | 'Greens' | 'YlOrRd' | 'Bluered' | 'RdBu' |\n",
        "        #'Reds' | 'Blues' | 'Picnic' | 'Rainbow' | 'Portland' | 'Jet' |\n",
        "        #'Hot' | 'Blackbody' | 'Earth' | 'Electric' | 'Viridis' |\n",
        "        colorscale='YlGnBu',\n",
        "        reversescale=True,\n",
        "        color=[],\n",
        "        size=10,\n",
        "        colorbar=dict(\n",
        "            thickness=15,\n",
        "            title='Node Connections',\n",
        "            xanchor='left',\n",
        "            titleside='right'\n",
        "        ),\n",
        "        line_width=2))\n",
        "\n",
        "\n",
        "node_adjacencies = []\n",
        "node_text = []\n",
        "for node, adjacencies in enumerate(G.adjacency()):\n",
        "    node_adjacencies.append(len(adjacencies[1]))\n",
        "    node_text.append('# of connections: '+str(len(adjacencies[1])))\n",
        "\n",
        "node_trace.marker.color = node_adjacencies\n",
        "node_trace.text = node_text\n",
        "\n",
        "\n",
        "fig = go.Figure(data=[edge_trace, node_trace],\n",
        "             layout=go.Layout(\n",
        "                title='<br>Traffic Sensor Data',\n",
        "                titlefont_size=16,\n",
        "                showlegend=False,\n",
        "                hovermode='closest',\n",
        "                margin=dict(b=20,l=5,r=5,t=40),\n",
        "                annotations=[ dict(\n",
        "                    text=\"\",#\"Python code: <a href='https://plotly.com/ipython-notebooks/network-graphs/'> https://plotly.com/ipython-notebooks/network-graphs/</a>\",\n",
        "                    showarrow=False,\n",
        "                    xref=\"paper\", yref=\"paper\",\n",
        "                    x=0.005, y=-0.002 ) ],\n",
        "                xaxis=dict(showgrid=False, zeroline=False, showticklabels=False),\n",
        "                yaxis=dict(showgrid=False, zeroline=False, showticklabels=False))\n",
        "                )\n",
        "fig.show()"
      ]
    },
    {
      "cell_type": "code",
      "execution_count": null,
      "metadata": {
        "colab": {
          "base_uri": "https://localhost:8080/"
        },
        "id": "zzirPr80HX_M",
        "outputId": "76426b83-4f68-4a13-fa67-97b4620a4211"
      },
      "outputs": [],
      "source": [
        "device = \"cuda\" if torch.cuda.is_available() else \"cpu\"\n",
        "print(device)"
      ]
    },
    {
      "cell_type": "code",
      "execution_count": null,
      "metadata": {
        "colab": {
          "base_uri": "https://localhost:8080/"
        },
        "id": "znG3v0v6Se1R",
        "outputId": "5167ee7a-173f-4e2f-eda3-889f5ceee67e"
      },
      "outputs": [],
      "source": [
        "# Apply z-score\n",
        "def zscore(x, mean, std):\n",
        "    return (x - mean) / std\n",
        "\n",
        "speeds_norm = zscore(speeds_df, speeds_df.mean(axis=0), speeds_df.std(axis=0))\n",
        "\n",
        "# Create dataset\n",
        "lags = 24\n",
        "horizon = 48\n",
        "xs = []\n",
        "ys = []\n",
        "for i in range(lags, speeds_norm.shape[0]-horizon):\n",
        "    xs.append(speeds_norm.to_numpy()[i-lags:i].T)\n",
        "    ys.append(speeds_norm.to_numpy()[i+horizon-1])\n",
        "\n",
        "# Convert adjacency matrix to edge_index (COO format)\n",
        "edge_index = (np.array(adj) > 0).nonzero()\n",
        "edge_index"
      ]
    },
    {
      "cell_type": "code",
      "execution_count": null,
      "metadata": {
        "colab": {
          "base_uri": "https://localhost:8080/"
        },
        "id": "6A4BqFPEY6hu",
        "outputId": "c9f52a03-b21e-4c19-f533-e6512f53fda3"
      },
      "outputs": [],
      "source": [
        "!pip install -q torch-scatter~=2.1.0 torch-sparse~=0.6.16 torch-cluster~=1.6.0 torch-spline-conv~=1.2.1 torch-geometric==2.2.0 -f https://data.pyg.org/whl/torch-{torch.__version__}.html\n",
        "!pip install -q torch-geometric-temporal==0.54.0\n",
        "\n",
        "import torch\n",
        "from torch_geometric_temporal.signal import StaticGraphTemporalSignal\n",
        "from torch_geometric_temporal.signal import temporal_signal_split\n",
        "\n",
        "\n",
        "dataset = StaticGraphTemporalSignal(edge_index, adj[adj > 0], xs, ys)\n",
        "dataset[0]"
      ]
    },
    {
      "cell_type": "code",
      "execution_count": null,
      "metadata": {
        "id": "7vnC1fi8Y_ib"
      },
      "outputs": [],
      "source": [
        "\n",
        "train_dataset, test_dataset = temporal_signal_split(dataset, train_ratio=0.8)"
      ]
    },
    {
      "cell_type": "markdown",
      "metadata": {
        "id": "r1OJdMcyu6kY"
      },
      "source": []
    },
    {
      "cell_type": "code",
      "execution_count": null,
      "metadata": {
        "colab": {
          "base_uri": "https://localhost:8080/"
        },
        "id": "4c3gW-2Hb53O",
        "outputId": "a2cd43ea-94c7-4b30-9e06-54c44690606c"
      },
      "outputs": [],
      "source": [
        "import torch\n",
        "from torch_geometric_temporal.nn.recurrent import A3TGCN\n",
        "\n",
        "\n",
        "class TemporalGNN(torch.nn.Module):\n",
        "    def __init__(self, dim_in, periods):\n",
        "        super().__init__()\n",
        "        self.tgnn = A3TGCN(in_channels=dim_in, out_channels=32, periods=periods)\n",
        "        self.linear = torch.nn.Linear(32, periods)\n",
        "\n",
        "    def forward(self, x, edge_index, edge_attr):\n",
        "        h = self.tgnn(x, edge_index, edge_attr).relu()\n",
        "        h = self.linear(h)\n",
        "        return h\n",
        "\n",
        "model = TemporalGNN(lags, 1).to(device)\n",
        "optimizer = torch.optim.Adam(model.parameters(), lr=0.005)\n",
        "model.train()\n",
        "print(model)"
      ]
    },
    {
      "cell_type": "code",
      "execution_count": null,
      "metadata": {
        "colab": {
          "base_uri": "https://localhost:8080/"
        },
        "id": "nDCMbHqcHQcB",
        "outputId": "831edcd3-ec56-45fb-ca77-413f0fc1aa42"
      },
      "outputs": [],
      "source": [
        "from tqdm import tqdm\n",
        "num_epochs = 50\n",
        "# Training\n",
        "for epoch in range(1, num_epochs + 1):\n",
        "    loss = 0\n",
        "    step = 0\n",
        "    for i, snapshot in enumerate(train_dataset):\n",
        "        y_pred = model(snapshot.x.unsqueeze(2), snapshot.edge_index, snapshot.edge_attr)\n",
        "        loss += torch.mean((y_pred-snapshot.y)**2)\n",
        "        step += 1\n",
        "    loss = loss / (step + 1)\n",
        "    loss.backward()\n",
        "    optimizer.step()\n",
        "    optimizer.zero_grad()\n",
        "    if epoch % 5 == 0:\n",
        "        print(f\"Epoch {epoch:>2} | Train MSE: {loss:.4f}\")"
      ]
    },
    {
      "cell_type": "code",
      "execution_count": null,
      "metadata": {
        "colab": {
          "base_uri": "https://localhost:8080/"
        },
        "id": "_yvDu82DHNMu",
        "outputId": "b3a70230-bb1e-406e-fbab-48a596042f03"
      },
      "outputs": [],
      "source": [
        "def inverse_zscore(x, mean, std):\n",
        "    return x * std + mean\n",
        "\n",
        "y_test = []\n",
        "for snapshot in test_dataset:\n",
        "    y_hat = snapshot.y.numpy()\n",
        "    y_hat = inverse_zscore(y_hat, speeds_df.mean(axis=0), speeds_df.std(axis=0))\n",
        "    y_test = np.append(y_test, y_hat)\n",
        "\n",
        "gnn_pred = []\n",
        "model.eval()\n",
        "for snapshot in test_dataset:\n",
        "    snapshot = snapshot\n",
        "    y_hat = model(snapshot.x.unsqueeze(2), snapshot.edge_index, snapshot.edge_weight).squeeze().detach().numpy()\n",
        "    y_hat = inverse_zscore(y_hat, speeds_df.mean(axis=0), speeds_df.std(axis=0))\n",
        "    gnn_pred = np.append(gnn_pred, y_hat)\n",
        "\n",
        "\n",
        "\n",
        "def MAE(real, pred):\n",
        "    return np.mean(np.abs(pred - real))\n",
        "\n",
        "def RMSE(real, pred):\n",
        "    return np.sqrt(np.mean((pred - real) ** 2))\n",
        "\n",
        "def MAPE(real, pred):\n",
        "    return np.mean(np.abs(pred - real) / (real + 1e-5))\n",
        "\n",
        "print(f'GNN MAE  = {MAE(gnn_pred, y_test):.4f}')\n",
        "print(f'GNN RMSE = {RMSE(gnn_pred, y_test):.4f}')\n",
        "print(f'GNN MAPE = {MAPE(gnn_pred, y_test):.4f}')"
      ]
    },
    {
      "cell_type": "code",
      "execution_count": null,
      "metadata": {
        "colab": {
          "base_uri": "https://localhost:8080/"
        },
        "id": "5jjbrjokKYyR",
        "outputId": "62f23f85-23fe-47ae-aa72-7519275dc583"
      },
      "outputs": [],
      "source": [
        "\n",
        "rw_pred = []\n",
        "for snapshot in test_dataset:\n",
        "    y_hat = snapshot.x[:,-1].squeeze().detach().numpy()\n",
        "    y_hat = inverse_zscore(y_hat, speeds_df.mean(axis=0), speeds_df.std(axis=0))\n",
        "    rw_pred = np.append(rw_pred, y_hat)\n",
        "\n",
        "print(f'RW MAE  = {MAE(rw_pred, y_test):.4f}')\n",
        "print(f'RW RMSE = {RMSE(rw_pred, y_test):.4f}')\n",
        "print(f'RW MAPE = {MAPE(rw_pred, y_test):.4f}')\n",
        "\n"
      ]
    },
    {
      "cell_type": "code",
      "execution_count": null,
      "metadata": {
        "colab": {
          "base_uri": "https://localhost:8080/"
        },
        "id": "cmjFeqIcKdCK",
        "outputId": "06e479b0-d0c2-424f-912c-1d0662fb4fe4"
      },
      "outputs": [],
      "source": [
        "ha_pred = []\n",
        "for i in range(lags, speeds_norm.shape[0]-horizon):\n",
        "    y_hat = speeds_norm.to_numpy()[:i].T.mean(axis=1)\n",
        "    y_hat = inverse_zscore(y_hat, speeds_df.mean(axis=0), speeds_df.std(axis=0))\n",
        "    ha_pred.append(y_hat)\n",
        "ha_pred = np.array(ha_pred).flatten()[-len(y_test):]\n",
        "\n",
        "print(f'HA MAE  = {MAE(ha_pred, y_test):.4f}')\n",
        "print(f'HA RMSE = {RMSE(ha_pred, y_test):.4f}')\n",
        "print(f'HA MAPE = {MAPE(ha_pred, y_test):.4f}')"
      ]
    },
    {
      "cell_type": "code",
      "execution_count": null,
      "metadata": {
        "id": "7UWdNN1bKdah"
      },
      "outputs": [],
      "source": [
        "y_preds = [inverse_zscore(model(snapshot.x.unsqueeze(2), snapshot.edge_index, snapshot.edge_weight).squeeze().detach().numpy(), speeds_df.mean(axis=0), speeds_df.std(axis=0)).mean() for snapshot in test_dataset]\n",
        "\n",
        "mean = speeds_df.mean(axis=1)\n",
        "std = speeds_df.std(axis=1)\n"
      ]
    },
    {
      "cell_type": "code",
      "execution_count": null,
      "metadata": {
        "id": "LWkmClWBOId0"
      },
      "outputs": [],
      "source": [
        "!mkdir models"
      ]
    },
    {
      "cell_type": "code",
      "execution_count": null,
      "metadata": {
        "id": "q0LL_P9vKlSy"
      },
      "outputs": [],
      "source": [
        "PATH = \"models/traffic_forecast.pt\"\n",
        "torch.save(model, PATH)"
      ]
    },
    {
      "cell_type": "code",
      "execution_count": null,
      "metadata": {
        "id": "V83ME8bbOQfb"
      },
      "outputs": [],
      "source": []
    }
  ],
  "metadata": {
    "colab": {
      "provenance": []
    },
    "kernelspec": {
      "display_name": "graphml",
      "language": "python",
      "name": "graphml"
    },
    "language_info": {
      "codemirror_mode": {
        "name": "ipython",
        "version": 3
      },
      "file_extension": ".py",
      "mimetype": "text/x-python",
      "name": "python",
      "nbconvert_exporter": "python",
      "pygments_lexer": "ipython3",
      "version": "3.9.12"
    }
  },
  "nbformat": 4,
  "nbformat_minor": 0
}
